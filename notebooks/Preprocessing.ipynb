{
 "cells": [
  {
   "cell_type": "markdown",
   "id": "6fe5ce7d-7d03-4710-a405-7f8cc37b1703",
   "metadata": {},
   "source": [
    "# <center>Preprocessing the data</center>"
   ]
  },
  {
   "cell_type": "markdown",
   "id": "33371bdb-bb49-466d-ade3-e5d948b2ef59",
   "metadata": {},
   "source": [
    "### Libraries"
   ]
  },
  {
   "cell_type": "code",
   "execution_count": 13,
   "id": "83e13c73-1e58-447d-9c9e-76e5f202180d",
   "metadata": {},
   "outputs": [],
   "source": [
    "import os\n",
    "import json\n",
    "import math\n",
    "import librosa"
   ]
  },
  {
   "cell_type": "markdown",
   "id": "74e27ac3-1baa-48de-85c6-11456dbe3392",
   "metadata": {},
   "source": [
    "### Constants"
   ]
  },
  {
   "cell_type": "code",
   "execution_count": 26,
   "id": "acc97d80-a67f-4e0b-b1b5-e57ad93dc767",
   "metadata": {},
   "outputs": [],
   "source": [
    "DATASET_PATH = '../assets/dataset/'\n",
    "JSON_PATH = '../assets/data.json'\n",
    "SAMPLE_RATE = 22050\n",
    "DURATION = 30 # sec\n",
    "SAMPLES_PER_TRACK = SAMPLE_RATE * DURATION"
   ]
  },
  {
   "cell_type": "markdown",
   "id": "212e80af-58ec-4f40-8c02-bfa2811af177",
   "metadata": {},
   "source": [
    "### MFCC feature extraction"
   ]
  },
  {
   "cell_type": "code",
   "execution_count": 27,
   "id": "832cab59-57c2-43a6-b277-618594ede371",
   "metadata": {},
   "outputs": [],
   "source": [
    "def save_mfcc(dataset_path, json_path, n_mfcc=13, n_fft=2048, hop_length=512, num_segments=5):\n",
    "\n",
    "    # dictionary to store data\n",
    "    data = {\n",
    "        'mapping': [],\n",
    "        'mfcc': [],\n",
    "        'labels': []\n",
    "    }\n",
    "\n",
    "    samples_per_seg = SAMPLES_PER_TRACK // num_segments\n",
    "    \n",
    "    # expected number of mfcc vectors per segment:\n",
    "    # round the number to higher integer\n",
    "    mfcc_vectors = math.ceil(samples_per_seg / hop_length)\n",
    "\n",
    "    # loop through all genres\n",
    "    for i, (dirpath, dirnames, filenames) in enumerate(os.walk(dataset_path)):\n",
    "\n",
    "        if dirpath is not dataset_path:\n",
    "            # save the semantic label\n",
    "            dirpath_components = dirpath.split('/')\n",
    "            semantic_label = dirpath_components[-1]\n",
    "            data['mapping'].append(semantic_label)\n",
    "            print(f'Processing: {semantic_label}')\n",
    "\n",
    "            # process files for a specific genre\n",
    "            for file in filenames:\n",
    "                file_path = os.path.join(dirpath, file)\n",
    "                signal, sr = librosa.load(file_path, sr=SAMPLE_RATE)\n",
    "    \n",
    "                # process segments extracting mfcc and storing data\n",
    "                for curr_seg in range(num_segments):\n",
    "                    start_sample = samples_per_seg * curr_seg\n",
    "                    finish_sample = start_sample + samples_per_seg\n",
    "    \n",
    "                    mfcc = librosa.feature.mfcc(y=signal[start_sample:finish_sample],\n",
    "                                               sr=sr,\n",
    "                                               n_fft=n_fft,\n",
    "                                               n_mfcc=n_mfcc,\n",
    "                                               hop_length=hop_length)\n",
    "                    \n",
    "                    mfcc = mfcc.T # to make it easier to work with\n",
    "    \n",
    "                    # store mfcc for segment if it has the expected length \n",
    "                    if len(mfcc) == mfcc_vectors:\n",
    "                        data['mfcc'].append(mfcc.tolist())\n",
    "                        data['labels'].append(i-1)\n",
    "    \n",
    "                        # print(f'{file_path}, segment:{curr_seg+1}')\n",
    "\n",
    "    with open(json_path, 'w') as fp:\n",
    "        json.dump(data, fp, indent=4)"
   ]
  },
  {
   "cell_type": "code",
   "execution_count": 28,
   "id": "01fa08e7-9f94-41a2-8f83-da5e4ac05503",
   "metadata": {},
   "outputs": [
    {
     "name": "stdout",
     "output_type": "stream",
     "text": [
      "Processing: blues\n",
      "Processing: classical\n",
      "Processing: country\n",
      "Processing: disco\n",
      "Processing: hiphop\n",
      "Processing: jazz\n",
      "Processing: metal\n",
      "Processing: pop\n",
      "Processing: reggae\n",
      "Processing: rock\n"
     ]
    }
   ],
   "source": [
    "save_mfcc(DATASET_PATH, JSON_PATH, num_segments=10)"
   ]
  }
 ],
 "metadata": {
  "kernelspec": {
   "display_name": "Python 3 (ipykernel)",
   "language": "python",
   "name": "python3"
  },
  "language_info": {
   "codemirror_mode": {
    "name": "ipython",
    "version": 3
   },
   "file_extension": ".py",
   "mimetype": "text/x-python",
   "name": "python",
   "nbconvert_exporter": "python",
   "pygments_lexer": "ipython3",
   "version": "3.11.3"
  }
 },
 "nbformat": 4,
 "nbformat_minor": 5
}
